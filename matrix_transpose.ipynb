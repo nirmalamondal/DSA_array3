{
 "cells": [
  {
   "cell_type": "code",
   "execution_count": 2,
   "id": "a16f00f1-b13c-4dc1-a2ef-8ad467ddef12",
   "metadata": {},
   "outputs": [
    {
     "name": "stdin",
     "output_type": "stream",
     "text": [
      "Enter the number of rows:  3\n",
      "Enter the number of columns:  4\n",
      " 1 \n",
      " 2\n",
      " 3\n",
      " 4\n",
      " 5\n",
      " 6\n",
      " 7\n",
      " 8\n",
      " 9\n",
      " 10\n",
      " 11\n",
      " 12\n"
     ]
    },
    {
     "name": "stdout",
     "output_type": "stream",
     "text": [
      "[[1, 5, 9], [2, 6, 10], [3, 7, 11], [4, 8, 12]]\n"
     ]
    }
   ],
   "source": [
    "'''Given a 2D integer array matrix, return *the **transpose** of* matrix.\n",
    "\n",
    "The **transpose** of a matrix is the matrix flipped over its main diagonal, switching the matrix's row and column indices.\n",
    "\n",
    "**Example 1:**\n",
    "\n",
    "Input: matrix = [[1,2,3],[4,5,6],[7,8,9]]\n",
    "\n",
    "Output: [[1,4,7],[2,5,8],[3,6,9]]\n",
    "\n",
    "'''\n",
    "\n",
    "def transpose_matrix(matrix):\n",
    "        mat =[]\n",
    "        for i in range (len(matrix[0])):\n",
    "            li=[]\n",
    "            for j in range(len(matrix)):\n",
    "                li.append(matrix[j][i])\n",
    "            mat.append(li)\n",
    "\n",
    "        return mat\n",
    "\n",
    "\n",
    "\n",
    "rows = int(input(\"Enter the number of rows: \"))\n",
    "columns = int(input(\"Enter the number of columns: \"))\n",
    "\n",
    "matrix = []\n",
    "\n",
    "for i in range(rows):   \n",
    "    row = []\n",
    "    for j in range(columns):\n",
    "        element = int(input())\n",
    "        row.append(element)\n",
    "    matrix.append(row)\n",
    "    \n",
    "\n",
    "result = transpose_matrix(matrix)    \n",
    "print(result)"
   ]
  },
  {
   "cell_type": "code",
   "execution_count": null,
   "id": "14ab73cb-9d60-43bb-b230-a1573d160f95",
   "metadata": {},
   "outputs": [],
   "source": []
  },
  {
   "cell_type": "code",
   "execution_count": null,
   "id": "d7a456e9-f98e-42ea-914c-886a74a710a1",
   "metadata": {},
   "outputs": [],
   "source": []
  }
 ],
 "metadata": {
  "kernelspec": {
   "display_name": "Python 3 (ipykernel)",
   "language": "python",
   "name": "python3"
  },
  "language_info": {
   "codemirror_mode": {
    "name": "ipython",
    "version": 3
   },
   "file_extension": ".py",
   "mimetype": "text/x-python",
   "name": "python",
   "nbconvert_exporter": "python",
   "pygments_lexer": "ipython3",
   "version": "3.10.8"
  }
 },
 "nbformat": 4,
 "nbformat_minor": 5
}
